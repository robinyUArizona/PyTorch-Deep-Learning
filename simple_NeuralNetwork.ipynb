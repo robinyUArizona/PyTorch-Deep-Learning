{
 "cells": [
  {
   "cell_type": "markdown",
   "metadata": {
    "colab_type": "text",
    "id": "view-in-github"
   },
   "source": [
    "<a href=\"https://colab.research.google.com/github/robinyUArizona/PyTorch-Deep-Learning/blob/main/simple_NeuralNetwork.ipynb\" target=\"_parent\"><img src=\"https://colab.research.google.com/assets/colab-badge.svg\" alt=\"Open In Colab\"/></a>"
   ]
  },
  {
   "cell_type": "code",
   "execution_count": 1,
   "metadata": {
    "id": "qkEsZgTdmM5P"
   },
   "outputs": [],
   "source": [
    "import torch\n",
    "import torch.nn as nn\n",
    "import torch.nn.functional as F"
   ]
  },
  {
   "cell_type": "code",
   "execution_count": 2,
   "metadata": {
    "id": "VBEKZQ_D1XCm"
   },
   "outputs": [],
   "source": [
    "# Create a Model Class that inherits nn.Module\n",
    "class Model(nn.Module):\n",
    "    # Input layer (4 features of the flower) -->\n",
    "    # Hidden Layer1 (number of neurons) -->\n",
    "    # H2(n) -->\n",
    "    # output (3 classes of iris flower)\n",
    "\n",
    "    def __init__(self, input_features=4, h1=8, h2=9, output_features=3):\n",
    "        super().__init__() # instantiate our nn.Module\n",
    "        self.fc1 = nn.Linear(input_features, h1)\n",
    "        self.fc2 = nn.Linear(h1, h2)\n",
    "        self.out = nn.Linear(h2, output_features)\n",
    "\n",
    "    def forward(self, x):\n",
    "        x = F.relu(self.fc1(x))\n",
    "        x = F.relu(self.fc2(x))\n",
    "        x = self.out(x)\n",
    "        return x\n"
   ]
  },
  {
   "cell_type": "code",
   "execution_count": 3,
   "metadata": {
    "colab": {
     "base_uri": "https://localhost:8080/"
    },
    "id": "viSatiK65zAr",
    "outputId": "18fce226-2a7d-4b7d-dc7f-13c765eed381"
   },
   "outputs": [
    {
     "data": {
      "text/plain": [
       "Model(\n",
       "  (fc1): Linear(in_features=4, out_features=8, bias=True)\n",
       "  (fc2): Linear(in_features=8, out_features=9, bias=True)\n",
       "  (out): Linear(in_features=9, out_features=3, bias=True)\n",
       ")"
      ]
     },
     "execution_count": 3,
     "metadata": {},
     "output_type": "execute_result"
    }
   ],
   "source": [
    "# Pick a manual seed for randomization\n",
    "torch.manual_seed(36)\n",
    "\n",
    "# Create an instance of model\n",
    "model = Model()\n",
    "model"
   ]
  },
  {
   "cell_type": "code",
   "execution_count": 4,
   "metadata": {
    "id": "K5QoTnfl6acc"
   },
   "outputs": [],
   "source": [
    "import pandas as pd\n",
    "import matplotlib.pyplot as plt\n",
    "%matplotlib inline"
   ]
  },
  {
   "cell_type": "code",
   "execution_count": 5,
   "metadata": {
    "id": "bXQiortJ7diO"
   },
   "outputs": [],
   "source": [
    "url = \"https://gist.githubusercontent.com/netj/8836201/raw/6f9306ad21398ea43cba4f7d537619d0e07d5ae3/iris.csv\"\n",
    "df = pd.read_csv(url)"
   ]
  },
  {
   "cell_type": "code",
   "execution_count": 6,
   "metadata": {
    "colab": {
     "base_uri": "https://localhost:8080/",
     "height": 206
    },
    "id": "rkqEhvc979fr",
    "outputId": "21142f06-a33f-41db-bd6d-7d35d1772dce"
   },
   "outputs": [
    {
     "data": {
      "text/html": [
       "<div>\n",
       "<style scoped>\n",
       "    .dataframe tbody tr th:only-of-type {\n",
       "        vertical-align: middle;\n",
       "    }\n",
       "\n",
       "    .dataframe tbody tr th {\n",
       "        vertical-align: top;\n",
       "    }\n",
       "\n",
       "    .dataframe thead th {\n",
       "        text-align: right;\n",
       "    }\n",
       "</style>\n",
       "<table border=\"1\" class=\"dataframe\">\n",
       "  <thead>\n",
       "    <tr style=\"text-align: right;\">\n",
       "      <th></th>\n",
       "      <th>sepal.length</th>\n",
       "      <th>sepal.width</th>\n",
       "      <th>petal.length</th>\n",
       "      <th>petal.width</th>\n",
       "      <th>variety</th>\n",
       "    </tr>\n",
       "  </thead>\n",
       "  <tbody>\n",
       "    <tr>\n",
       "      <th>0</th>\n",
       "      <td>5.1</td>\n",
       "      <td>3.5</td>\n",
       "      <td>1.4</td>\n",
       "      <td>0.2</td>\n",
       "      <td>Setosa</td>\n",
       "    </tr>\n",
       "    <tr>\n",
       "      <th>1</th>\n",
       "      <td>4.9</td>\n",
       "      <td>3.0</td>\n",
       "      <td>1.4</td>\n",
       "      <td>0.2</td>\n",
       "      <td>Setosa</td>\n",
       "    </tr>\n",
       "    <tr>\n",
       "      <th>2</th>\n",
       "      <td>4.7</td>\n",
       "      <td>3.2</td>\n",
       "      <td>1.3</td>\n",
       "      <td>0.2</td>\n",
       "      <td>Setosa</td>\n",
       "    </tr>\n",
       "    <tr>\n",
       "      <th>3</th>\n",
       "      <td>4.6</td>\n",
       "      <td>3.1</td>\n",
       "      <td>1.5</td>\n",
       "      <td>0.2</td>\n",
       "      <td>Setosa</td>\n",
       "    </tr>\n",
       "    <tr>\n",
       "      <th>4</th>\n",
       "      <td>5.0</td>\n",
       "      <td>3.6</td>\n",
       "      <td>1.4</td>\n",
       "      <td>0.2</td>\n",
       "      <td>Setosa</td>\n",
       "    </tr>\n",
       "  </tbody>\n",
       "</table>\n",
       "</div>"
      ],
      "text/plain": [
       "   sepal.length  sepal.width  petal.length  petal.width variety\n",
       "0           5.1          3.5           1.4          0.2  Setosa\n",
       "1           4.9          3.0           1.4          0.2  Setosa\n",
       "2           4.7          3.2           1.3          0.2  Setosa\n",
       "3           4.6          3.1           1.5          0.2  Setosa\n",
       "4           5.0          3.6           1.4          0.2  Setosa"
      ]
     },
     "execution_count": 6,
     "metadata": {},
     "output_type": "execute_result"
    }
   ],
   "source": [
    "df.head()"
   ]
  },
  {
   "cell_type": "code",
   "execution_count": 7,
   "metadata": {
    "colab": {
     "base_uri": "https://localhost:8080/",
     "height": 206
    },
    "id": "AKs6sCex7-3x",
    "outputId": "d03f01cc-380e-4eca-b19f-dbadfb35980d"
   },
   "outputs": [
    {
     "name": "stderr",
     "output_type": "stream",
     "text": [
      "/var/folders/r0/pv07g23s2_j2pp2yp_f0r1fc0000gn/T/ipykernel_38527/2184735177.py:4: FutureWarning: Downcasting behavior in `replace` is deprecated and will be removed in a future version. To retain the old behavior, explicitly call `result.infer_objects(copy=False)`. To opt-in to the future behavior, set `pd.set_option('future.no_silent_downcasting', True)`\n",
      "  df[\"variety\"] = df[\"variety\"].replace(\"Virginica\", 2.0)\n"
     ]
    },
    {
     "data": {
      "text/html": [
       "<div>\n",
       "<style scoped>\n",
       "    .dataframe tbody tr th:only-of-type {\n",
       "        vertical-align: middle;\n",
       "    }\n",
       "\n",
       "    .dataframe tbody tr th {\n",
       "        vertical-align: top;\n",
       "    }\n",
       "\n",
       "    .dataframe thead th {\n",
       "        text-align: right;\n",
       "    }\n",
       "</style>\n",
       "<table border=\"1\" class=\"dataframe\">\n",
       "  <thead>\n",
       "    <tr style=\"text-align: right;\">\n",
       "      <th></th>\n",
       "      <th>sepal.length</th>\n",
       "      <th>sepal.width</th>\n",
       "      <th>petal.length</th>\n",
       "      <th>petal.width</th>\n",
       "      <th>variety</th>\n",
       "    </tr>\n",
       "  </thead>\n",
       "  <tbody>\n",
       "    <tr>\n",
       "      <th>0</th>\n",
       "      <td>5.1</td>\n",
       "      <td>3.5</td>\n",
       "      <td>1.4</td>\n",
       "      <td>0.2</td>\n",
       "      <td>0.0</td>\n",
       "    </tr>\n",
       "    <tr>\n",
       "      <th>1</th>\n",
       "      <td>4.9</td>\n",
       "      <td>3.0</td>\n",
       "      <td>1.4</td>\n",
       "      <td>0.2</td>\n",
       "      <td>0.0</td>\n",
       "    </tr>\n",
       "    <tr>\n",
       "      <th>2</th>\n",
       "      <td>4.7</td>\n",
       "      <td>3.2</td>\n",
       "      <td>1.3</td>\n",
       "      <td>0.2</td>\n",
       "      <td>0.0</td>\n",
       "    </tr>\n",
       "    <tr>\n",
       "      <th>3</th>\n",
       "      <td>4.6</td>\n",
       "      <td>3.1</td>\n",
       "      <td>1.5</td>\n",
       "      <td>0.2</td>\n",
       "      <td>0.0</td>\n",
       "    </tr>\n",
       "    <tr>\n",
       "      <th>4</th>\n",
       "      <td>5.0</td>\n",
       "      <td>3.6</td>\n",
       "      <td>1.4</td>\n",
       "      <td>0.2</td>\n",
       "      <td>0.0</td>\n",
       "    </tr>\n",
       "  </tbody>\n",
       "</table>\n",
       "</div>"
      ],
      "text/plain": [
       "   sepal.length  sepal.width  petal.length  petal.width  variety\n",
       "0           5.1          3.5           1.4          0.2      0.0\n",
       "1           4.9          3.0           1.4          0.2      0.0\n",
       "2           4.7          3.2           1.3          0.2      0.0\n",
       "3           4.6          3.1           1.5          0.2      0.0\n",
       "4           5.0          3.6           1.4          0.2      0.0"
      ]
     },
     "execution_count": 7,
     "metadata": {},
     "output_type": "execute_result"
    }
   ],
   "source": [
    "# Change last column from strings to number\n",
    "df[\"variety\"] = df[\"variety\"].replace(\"Setosa\", 0.0)\n",
    "df[\"variety\"] = df[\"variety\"].replace(\"Versicolor\", 1.0)\n",
    "df[\"variety\"] = df[\"variety\"].replace(\"Virginica\", 2.0)\n",
    "df.head()"
   ]
  },
  {
   "cell_type": "code",
   "execution_count": 8,
   "metadata": {
    "colab": {
     "base_uri": "https://localhost:8080/",
     "height": 429
    },
    "id": "25wWv87H8f6_",
    "outputId": "04a57338-5a46-4efa-c83c-78a86b4e5190"
   },
   "outputs": [
    {
     "data": {
      "text/html": [
       "<div>\n",
       "<style scoped>\n",
       "    .dataframe tbody tr th:only-of-type {\n",
       "        vertical-align: middle;\n",
       "    }\n",
       "\n",
       "    .dataframe tbody tr th {\n",
       "        vertical-align: top;\n",
       "    }\n",
       "\n",
       "    .dataframe thead th {\n",
       "        text-align: right;\n",
       "    }\n",
       "</style>\n",
       "<table border=\"1\" class=\"dataframe\">\n",
       "  <thead>\n",
       "    <tr style=\"text-align: right;\">\n",
       "      <th></th>\n",
       "      <th>sepal.length</th>\n",
       "      <th>sepal.width</th>\n",
       "      <th>petal.length</th>\n",
       "      <th>petal.width</th>\n",
       "    </tr>\n",
       "  </thead>\n",
       "  <tbody>\n",
       "    <tr>\n",
       "      <th>0</th>\n",
       "      <td>5.1</td>\n",
       "      <td>3.5</td>\n",
       "      <td>1.4</td>\n",
       "      <td>0.2</td>\n",
       "    </tr>\n",
       "    <tr>\n",
       "      <th>1</th>\n",
       "      <td>4.9</td>\n",
       "      <td>3.0</td>\n",
       "      <td>1.4</td>\n",
       "      <td>0.2</td>\n",
       "    </tr>\n",
       "    <tr>\n",
       "      <th>2</th>\n",
       "      <td>4.7</td>\n",
       "      <td>3.2</td>\n",
       "      <td>1.3</td>\n",
       "      <td>0.2</td>\n",
       "    </tr>\n",
       "    <tr>\n",
       "      <th>3</th>\n",
       "      <td>4.6</td>\n",
       "      <td>3.1</td>\n",
       "      <td>1.5</td>\n",
       "      <td>0.2</td>\n",
       "    </tr>\n",
       "    <tr>\n",
       "      <th>4</th>\n",
       "      <td>5.0</td>\n",
       "      <td>3.6</td>\n",
       "      <td>1.4</td>\n",
       "      <td>0.2</td>\n",
       "    </tr>\n",
       "  </tbody>\n",
       "</table>\n",
       "</div>"
      ],
      "text/plain": [
       "   sepal.length  sepal.width  petal.length  petal.width\n",
       "0           5.1          3.5           1.4          0.2\n",
       "1           4.9          3.0           1.4          0.2\n",
       "2           4.7          3.2           1.3          0.2\n",
       "3           4.6          3.1           1.5          0.2\n",
       "4           5.0          3.6           1.4          0.2"
      ]
     },
     "metadata": {},
     "output_type": "display_data"
    },
    {
     "data": {
      "text/plain": [
       "0    0.0\n",
       "1    0.0\n",
       "2    0.0\n",
       "3    0.0\n",
       "4    0.0\n",
       "Name: variety, dtype: float64"
      ]
     },
     "metadata": {},
     "output_type": "display_data"
    }
   ],
   "source": [
    "# Train Test Split! Set X, y\n",
    "X = df.drop(\"variety\", axis=1)\n",
    "y = df[\"variety\"]\n",
    "display(X.head())\n",
    "display(y.head())"
   ]
  },
  {
   "cell_type": "code",
   "execution_count": 9,
   "metadata": {
    "id": "FqQJDkAD873L"
   },
   "outputs": [],
   "source": [
    "# Convert these to numpy arrays\n",
    "X = X.values\n",
    "y = y.values"
   ]
  },
  {
   "cell_type": "code",
   "execution_count": 10,
   "metadata": {
    "colab": {
     "base_uri": "https://localhost:8080/"
    },
    "id": "GXWLFunA9Z0w",
    "outputId": "84779b1a-f4af-4f7a-87e8-4e3714d9f249"
   },
   "outputs": [
    {
     "name": "stdout",
     "output_type": "stream",
     "text": [
      "First 5 rows of X:\n",
      " [[5.1 3.5 1.4 0.2]\n",
      " [4.9 3.  1.4 0.2]\n",
      " [4.7 3.2 1.3 0.2]\n",
      " [4.6 3.1 1.5 0.2]\n",
      " [5.  3.6 1.4 0.2]]\n",
      "First 5 rows of y:\n",
      " [0. 0. 0. 0. 0.]\n"
     ]
    }
   ],
   "source": [
    "print(\"First 5 rows of X:\\n\", X[0:5])\n",
    "print(\"First 5 rows of y:\\n\", y[0:5])"
   ]
  },
  {
   "cell_type": "code",
   "execution_count": 11,
   "metadata": {
    "id": "bFfNcX2p-ItF"
   },
   "outputs": [],
   "source": [
    "from sklearn.model_selection import train_test_split"
   ]
  },
  {
   "cell_type": "code",
   "execution_count": 12,
   "metadata": {
    "id": "Ux4gDegDAX5P"
   },
   "outputs": [],
   "source": [
    "# Train Test Split\n",
    "X_train, X_test, y_train, y_test = train_test_split(X, y, test_size=0.2, random_state=36)"
   ]
  },
  {
   "cell_type": "code",
   "execution_count": 13,
   "metadata": {
    "id": "Isd-FJZ9AqtJ"
   },
   "outputs": [],
   "source": [
    "# Convert X features to float tensors\n",
    "X_train = torch.FloatTensor(X_train)\n",
    "X_test = torch.FloatTensor(X_test)\n",
    "# print(X_train)\n",
    "# Convert y labels to tensors long\n",
    "y_train = torch.LongTensor(y_train)\n",
    "y_test = torch.LongTensor(y_test)"
   ]
  },
  {
   "cell_type": "code",
   "execution_count": 14,
   "metadata": {
    "id": "4JAcwB87BZzW"
   },
   "outputs": [],
   "source": [
    "# Set the criterion of model to measure the error, how far off the prediction are from the data\n",
    "criterion = nn.CrossEntropyLoss()\n",
    "\n",
    "# Choose Adam Optimizer, lr = learning rate (if error doesn't go down after a bunch of iterations (epoch), lower our learning rate)\n",
    "optimizer = torch.optim.Adam(model.parameters(), lr=0.005)"
   ]
  },
  {
   "cell_type": "code",
   "execution_count": 15,
   "metadata": {
    "id": "fNsOITtEExsf"
   },
   "outputs": [],
   "source": [
    "# model.parameters"
   ]
  },
  {
   "cell_type": "code",
   "execution_count": 16,
   "metadata": {
    "colab": {
     "base_uri": "https://localhost:8080/"
    },
    "id": "12gm2hwxE1Ui",
    "outputId": "e637d79e-5f6a-4358-ce3f-89f325ce4d9e"
   },
   "outputs": [
    {
     "name": "stdout",
     "output_type": "stream",
     "text": [
      "Epoch: 0, Training Loss: 1.1184, Training Accuracy: 35.00%, Validation Loss: 1.1262, Validation Accuracy: 26.67%\n",
      "Epoch: 10, Training Loss: 1.0880, Training Accuracy: 35.00%, Validation Loss: 1.0951, Validation Accuracy: 26.67%\n",
      "Epoch: 20, Training Loss: 1.0566, Training Accuracy: 35.00%, Validation Loss: 1.0687, Validation Accuracy: 26.67%\n",
      "Epoch: 30, Training Loss: 1.0226, Training Accuracy: 67.50%, Validation Loss: 1.0360, Validation Accuracy: 63.33%\n",
      "Epoch: 40, Training Loss: 0.9825, Training Accuracy: 67.50%, Validation Loss: 0.9997, Validation Accuracy: 63.33%\n",
      "Epoch: 50, Training Loss: 0.9305, Training Accuracy: 67.50%, Validation Loss: 0.9522, Validation Accuracy: 63.33%\n",
      "Epoch: 60, Training Loss: 0.8654, Training Accuracy: 67.50%, Validation Loss: 0.8934, Validation Accuracy: 63.33%\n",
      "Epoch: 70, Training Loss: 0.7898, Training Accuracy: 67.50%, Validation Loss: 0.8259, Validation Accuracy: 63.33%\n",
      "Epoch: 80, Training Loss: 0.7107, Training Accuracy: 67.50%, Validation Loss: 0.7492, Validation Accuracy: 63.33%\n",
      "Epoch: 90, Training Loss: 0.6346, Training Accuracy: 69.17%, Validation Loss: 0.6754, Validation Accuracy: 63.33%\n",
      "Epoch: 100, Training Loss: 0.5619, Training Accuracy: 71.67%, Validation Loss: 0.5991, Validation Accuracy: 66.67%\n",
      "Epoch: 110, Training Loss: 0.4923, Training Accuracy: 78.33%, Validation Loss: 0.5259, Validation Accuracy: 70.00%\n",
      "Epoch: 120, Training Loss: 0.4269, Training Accuracy: 85.00%, Validation Loss: 0.4538, Validation Accuracy: 86.67%\n",
      "Epoch: 130, Training Loss: 0.3685, Training Accuracy: 87.50%, Validation Loss: 0.3862, Validation Accuracy: 90.00%\n",
      "Epoch: 140, Training Loss: 0.3046, Training Accuracy: 95.83%, Validation Loss: 0.3169, Validation Accuracy: 96.67%\n",
      "Epoch: 150, Training Loss: 0.2617, Training Accuracy: 95.83%, Validation Loss: 0.2667, Validation Accuracy: 96.67%\n",
      "Epoch: 160, Training Loss: 0.2299, Training Accuracy: 96.67%, Validation Loss: 0.2318, Validation Accuracy: 96.67%\n",
      "Epoch: 170, Training Loss: 0.2068, Training Accuracy: 96.67%, Validation Loss: 0.2048, Validation Accuracy: 96.67%\n",
      "Epoch: 180, Training Loss: 0.1888, Training Accuracy: 97.50%, Validation Loss: 0.1834, Validation Accuracy: 96.67%\n",
      "Epoch: 190, Training Loss: 0.1743, Training Accuracy: 97.50%, Validation Loss: 0.1658, Validation Accuracy: 100.00%\n",
      "Epoch: 200, Training Loss: 0.1624, Training Accuracy: 97.50%, Validation Loss: 0.1510, Validation Accuracy: 100.00%\n",
      "Epoch: 210, Training Loss: 0.1523, Training Accuracy: 97.50%, Validation Loss: 0.1385, Validation Accuracy: 100.00%\n"
     ]
    }
   ],
   "source": [
    "# Train model\n",
    "# Epochs? (one rub through all the training data in our network)\n",
    "epochs = 220\n",
    "train_losses = []\n",
    "val_losses = []\n",
    "train_accuracies = []\n",
    "val_accuracies = []\n",
    "\n",
    "\n",
    "for epoch in range(epochs):\n",
    "    # ---- Training Phase ----\n",
    "    # model.train()  # Set the model to training mode\n",
    "\n",
    "    # Forward pass: Compute predicted y by passing X_train to the model\n",
    "    y_pred = model.forward(X_train) # Get predicted results\n",
    "\n",
    "    # Measure the loss/error, gonna be high at first\n",
    "    train_loss = criterion(y_pred, y_train) # predicted values vs. the y_train\n",
    "    train_losses.append(train_loss.detach().numpy())\n",
    "\n",
    "    # Calculate accuracy\n",
    "    _, predicted = torch.max(y_pred, 1)\n",
    "    correct = (predicted == y_train).sum().item()\n",
    "    train_accuracy = 100 * correct / y_train.size(0)\n",
    "    train_accuracies.append(train_accuracy)\n",
    "\n",
    "    # Do some back propagation: take the error rate of forward propagation and\n",
    "    # feed it back through the network to fine tune the weights\n",
    "    optimizer.zero_grad()\n",
    "    train_loss.backward()\n",
    "    optimizer.step()\n",
    "\n",
    "\n",
    "    # ---- Validation Phase ----\n",
    "    model.eval()  # Set the model to evaluation mode (turns off dropout, etc.)\n",
    "\n",
    "    with torch.no_grad():  # No need to track gradients during validation\n",
    "        y_val_pred = model(X_test)\n",
    "        val_loss = criterion(y_val_pred, y_test)  # Predicted vs actual (validation)\n",
    "        val_losses.append(val_loss.detach().numpy())\n",
    "\n",
    "        # Calculate validation accuracy\n",
    "        _, val_predicted = torch.max(y_val_pred, 1)\n",
    "        val_correct = (val_predicted == y_test).sum().item()\n",
    "        val_accuracy = 100 * val_correct / y_test.size(0)\n",
    "        val_accuracies.append(val_accuracy)\n",
    "\n",
    "\n",
    "    # print very 10 epoch\n",
    "    if epoch%10 == 0:\n",
    "        print(f\"Epoch: {epoch}, \"\n",
    "                f\"Training Loss: {train_loss.item():.4f}, Training Accuracy: {train_accuracy:.2f}%, \"\n",
    "                f\"Validation Loss: {val_loss.item():.4f}, Validation Accuracy: {val_accuracy:.2f}%\")\n"
   ]
  },
  {
   "cell_type": "code",
   "execution_count": 17,
   "metadata": {
    "colab": {
     "base_uri": "https://localhost:8080/",
     "height": 361
    },
    "id": "aynLuOG4NJyY",
    "outputId": "6aa04bfe-5446-4168-9224-bcf5f782186c"
   },
   "outputs": [
    {
     "data": {
      "image/png": "[encoded data removed]",
      "text/plain": [
       "<Figure size 2400x700 with 2 Axes>"
      ]
     },
     "metadata": {},
     "output_type": "display_data"
    }
   ],
   "source": [
    "# After training, plot the losses and accuracies\n",
    "plt.figure(figsize=(24, 7))\n",
    "\n",
    "# Plotting Training and Validation Loss\n",
    "plt.subplot(1, 2, 1)\n",
    "plt.plot(train_losses, label='Training Loss')\n",
    "plt.plot(val_losses, label='Validation Loss')\n",
    "plt.xlabel('Epochs')\n",
    "plt.ylabel('Loss')\n",
    "plt.title('Training and Validation Loss')\n",
    "plt.legend()\n",
    "\n",
    "# Plotting Training and Validation Accuracy\n",
    "plt.subplot(1, 2, 2)\n",
    "plt.plot(train_accuracies, label='Training Accuracy')\n",
    "plt.plot(val_accuracies, label='Validation Accuracy')\n",
    "plt.xlabel('Epochs')\n",
    "plt.ylabel('Accuracy (%)')\n",
    "plt.title('Training and Validation Accuracy')\n",
    "plt.legend()\n",
    "\n",
    "plt.show()"
   ]
  },
  {
   "cell_type": "code",
   "execution_count": 18,
   "metadata": {
    "id": "ZFi7OaYpOmVa"
   },
   "outputs": [],
   "source": [
    "# Evaluate Model on Test Data Set (validate model on test set)\n",
    "with torch.no_grad(): # Basically turn off back propogation\n",
    "    y_eval = model.forward(X_test)\n",
    "    loss = criterion(y_eval, y_test) # Find the loss or error"
   ]
  },
  {
   "cell_type": "code",
   "execution_count": 19,
   "metadata": {
    "colab": {
     "base_uri": "https://localhost:8080/"
    },
    "id": "dz7XUxMyRzUj",
    "outputId": "ed1f1051-f0f2-4ca4-a8c8-8acc8fe1aded"
   },
   "outputs": [
    {
     "data": {
      "text/plain": [
       "tensor(0.1289)"
      ]
     },
     "execution_count": 19,
     "metadata": {},
     "output_type": "execute_result"
    }
   ],
   "source": [
    "loss"
   ]
  },
  {
   "cell_type": "code",
   "execution_count": 20,
   "metadata": {
    "colab": {
     "base_uri": "https://localhost:8080/"
    },
    "id": "QhAQsh45SAEu",
    "outputId": "16c1d78e-df70-4591-d124-664f23b23082"
   },
   "outputs": [
    {
     "name": "stdout",
     "output_type": "stream",
     "text": [
      "1.) tensor([-1.2021,  1.0916, -0.5505]) \t 1 \t 1\n",
      "2.) tensor([-3.2025, -1.6691,  1.8952]) \t 2 \t 2\n",
      "3.) tensor([-1.2021,  1.0916, -0.5505]) \t 1 \t 1\n",
      "4.) tensor([-5.8209, -5.2523,  5.0453]) \t 2 \t 2\n",
      "5.) tensor([-4.6828, -3.7118,  3.6910]) \t 2 \t 2\n",
      "6.) tensor([-1.2021,  1.0916, -0.5505]) \t 1 \t 1\n",
      "7.) tensor([-1.2021,  1.0916, -0.5505]) \t 1 \t 1\n",
      "8.) tensor([-1.2021,  1.0916, -0.5505]) \t 1 \t 1\n",
      "9.) tensor([-1.2021,  1.0916, -0.5505]) \t 1 \t 1\n",
      "10.) tensor([-1.3504,  0.9026, -0.3707]) \t 1 \t 1\n",
      "11.) tensor([-1.2021,  1.0916, -0.5505]) \t 1 \t 1\n",
      "12.) tensor([ 3.1003, -2.8009, -4.5993]) \t 0 \t 0\n",
      "13.) tensor([-2.4203, -0.5871,  0.9386]) \t 2 \t 2\n",
      "14.) tensor([-1.2021,  1.0916, -0.5505]) \t 1 \t 1\n",
      "15.) tensor([ 2.5976, -2.3461, -4.1262]) \t 0 \t 0\n",
      "16.) tensor([ 3.0752, -2.7782, -4.5756]) \t 0 \t 0\n",
      "17.) tensor([ 3.1550, -2.8504, -4.6507]) \t 0 \t 0\n",
      "18.) tensor([-1.7237,  0.3717,  0.0872]) \t 1 \t 1\n",
      "19.) tensor([ 3.6539, -3.3018, -5.1203]) \t 0 \t 0\n",
      "20.) tensor([-2.9270, -1.2818,  1.5577]) \t 2 \t 2\n",
      "21.) tensor([ 3.2399, -2.9272, -4.7307]) \t 0 \t 0\n",
      "22.) tensor([-3.0641, -1.4845,  1.7266]) \t 2 \t 2\n",
      "23.) tensor([-3.7354, -2.4092,  2.5471]) \t 2 \t 2\n",
      "24.) tensor([ 3.1138, -2.8131, -4.6120]) \t 0 \t 0\n",
      "25.) tensor([-2.9733, -1.3706,  1.6166]) \t 2 \t 2\n",
      "26.) tensor([-3.4153, -1.9586,  2.1550]) \t 2 \t 2\n",
      "27.) tensor([ 2.7437, -2.4783, -4.2637]) \t 0 \t 0\n",
      "28.) tensor([-2.7987, -1.1088,  1.4013]) \t 2 \t 2\n",
      "29.) tensor([-1.2021,  1.0916, -0.5505]) \t 1 \t 1\n",
      "30.) tensor([-3.9718, -2.7251,  2.8353]) \t 2 \t 2\n",
      "We got 30 correct!\n"
     ]
    }
   ],
   "source": [
    "correct = 0\n",
    "with torch.no_grad():\n",
    "    for i, data in enumerate(X_test):\n",
    "        y_val = model.forward(data)\n",
    "\n",
    "        # if y_test[i] == 0:\n",
    "        #     x = \"Setosa\"\n",
    "        # elif y_test[i] == 1:\n",
    "        #     x = \"Versicolor\"\n",
    "        # else:\n",
    "        #     x = \"Virginica\"\n",
    "\n",
    "        # Will tell us what type of flower class our network thinks it is\n",
    "        print(f\"{i+1}.) {str(y_val)} \\t {y_test[i]} \\t {y_val.argmax().item()}\")\n",
    "\n",
    "        # Correct or not\n",
    "        if y_val.argmax().item() == y_test[i]:\n",
    "            correct +=1\n",
    "print(f\"We got {correct} correct!\")"
   ]
  },
  {
   "cell_type": "code",
   "execution_count": 21,
   "metadata": {
    "id": "LS7xLZbQTh8h"
   },
   "outputs": [],
   "source": [
    "## Unseen New Data\n",
    "new_iris = torch.tensor([4.7, 3.2, 1.3, 0.2])"
   ]
  },
  {
   "cell_type": "code",
   "execution_count": 22,
   "metadata": {
    "colab": {
     "base_uri": "https://localhost:8080/"
    },
    "id": "Yh28p3mFisrm",
    "outputId": "41b8dab1-ac46-44ef-9eec-2171e0ccd817"
   },
   "outputs": [
    {
     "name": "stdout",
     "output_type": "stream",
     "text": [
      "tensor([ 2.8932, -2.6136, -4.4044])\n"
     ]
    }
   ],
   "source": [
    "with torch.no_grad():\n",
    "    print(model(new_iris))"
   ]
  },
  {
   "cell_type": "code",
   "execution_count": 23,
   "metadata": {
    "id": "ffurjynei5yf"
   },
   "outputs": [],
   "source": [
    "newer_iris = torch.tensor([5.9, 3.0, 5.1, 1.0])"
   ]
  },
  {
   "cell_type": "code",
   "execution_count": 24,
   "metadata": {
    "colab": {
     "base_uri": "https://localhost:8080/"
    },
    "id": "lGsP7jkmjG5Z",
    "outputId": "4a85dc6a-416a-4db3-9bd9-8a97933df305"
   },
   "outputs": [
    {
     "name": "stdout",
     "output_type": "stream",
     "text": [
      "tensor([-1.2299,  1.0639, -0.5175])\n"
     ]
    }
   ],
   "source": [
    "with torch.no_grad():\n",
    "    print(model(newer_iris))"
   ]
  },
  {
   "cell_type": "code",
   "execution_count": null,
   "metadata": {
    "id": "WoP7ryo3jJdJ"
   },
   "outputs": [],
   "source": []
  },
  {
   "cell_type": "code",
   "execution_count": 25,
   "metadata": {
    "id": "l62fSM__upfh"
   },
   "outputs": [],
   "source": [
    "# Save our NN model\n",
    "torch.save(model.state_dict(), \"neural_network_iris_model.pt\")"
   ]
  },
  {
   "cell_type": "code",
   "execution_count": 26,
   "metadata": {
    "colab": {
     "base_uri": "https://localhost:8080/"
    },
    "id": "Y1QptrLOyNIG",
    "outputId": "942b3f73-6e5c-4553-fff0-a34d4eb413cb"
   },
   "outputs": [
    {
     "name": "stderr",
     "output_type": "stream",
     "text": [
      "/var/folders/r0/pv07g23s2_j2pp2yp_f0r1fc0000gn/T/ipykernel_38527/2961372561.py:3: FutureWarning: You are using `torch.load` with `weights_only=False` (the current default value), which uses the default pickle module implicitly. It is possible to construct malicious pickle data which will execute arbitrary code during unpickling (See https://github.com/pytorch/pytorch/blob/main/SECURITY.md#untrusted-models for more details). In a future release, the default value for `weights_only` will be flipped to `True`. This limits the functions that could be executed during unpickling. Arbitrary objects will no longer be allowed to be loaded via this mode unless they are explicitly allowlisted by the user via `torch.serialization.add_safe_globals`. We recommend you start setting `weights_only=True` for any use case where you don't have full control of the loaded file. Please open an issue on GitHub for any issues related to this experimental feature.\n",
      "  new_model.load_state_dict(torch.load(\"neural_network_iris_model.pt\"))\n"
     ]
    },
    {
     "data": {
      "text/plain": [
       "<All keys matched successfully>"
      ]
     },
     "execution_count": 26,
     "metadata": {},
     "output_type": "execute_result"
    }
   ],
   "source": [
    "# Load the Saved Model\n",
    "new_model = Model()\n",
    "new_model.load_state_dict(torch.load(\"neural_network_iris_model.pt\"))"
   ]
  },
  {
   "cell_type": "code",
   "execution_count": 27,
   "metadata": {
    "colab": {
     "base_uri": "https://localhost:8080/"
    },
    "id": "D0bxxbiOyqlo",
    "outputId": "cd0750dc-2817-4335-8cb1-1e3380225e63"
   },
   "outputs": [
    {
     "data": {
      "text/plain": [
       "Model(\n",
       "  (fc1): Linear(in_features=4, out_features=8, bias=True)\n",
       "  (fc2): Linear(in_features=8, out_features=9, bias=True)\n",
       "  (out): Linear(in_features=9, out_features=3, bias=True)\n",
       ")"
      ]
     },
     "execution_count": 27,
     "metadata": {},
     "output_type": "execute_result"
    }
   ],
   "source": [
    "# Make sure it loaded correctly\n",
    "new_model.eval()"
   ]
  },
  {
   "cell_type": "code",
   "execution_count": 28,
   "metadata": {
    "colab": {
     "base_uri": "https://localhost:8080/"
    },
    "id": "8BkshGdgy2p6",
    "outputId": "271766e9-6dd6-4f62-f87e-83217e27b45a"
   },
   "outputs": [
    {
     "name": "stdout",
     "output_type": "stream",
     "text": [
      "tensor([ 2.8932, -2.6136, -4.4044])\n"
     ]
    }
   ],
   "source": [
    "with torch.no_grad():\n",
    "    print(new_model(new_iris))"
   ]
  },
  {
   "cell_type": "code",
   "execution_count": 29,
   "metadata": {
    "colab": {
     "base_uri": "https://localhost:8080/"
    },
    "id": "RCEhw-221GeF",
    "outputId": "bb8b590f-3437-4a76-b8f6-ab46ee0b5bce"
   },
   "outputs": [
    {
     "name": "stdout",
     "output_type": "stream",
     "text": [
      "tensor([-1.2299,  1.0639, -0.5175])\n"
     ]
    }
   ],
   "source": [
    "with torch.no_grad():\n",
    "    print(new_model(newer_iris))"
   ]
  },
  {
   "cell_type": "code",
   "execution_count": null,
   "metadata": {
    "id": "u58UQIuK1IxE"
   },
   "outputs": [],
   "source": []
  }
 ],
 "metadata": {
  "colab": {
   "authorship_tag": "ABX9TyP5iRx2re0Fo6rVjbbpVqHJ",
   "include_colab_link": true,
   "provenance": []
  },
  "kernelspec": {
   "display_name": "pytorch_env",
   "language": "python",
   "name": "pytorch_env"
  },
  "language_info": {
   "codemirror_mode": {
    "name": "ipython",
    "version": 3
   },
   "file_extension": ".py",
   "mimetype": "text/x-python",
   "name": "python",
   "nbconvert_exporter": "python",
   "pygments_lexer": "ipython3",
   "version": "3.12.8"
  }
 },
 "nbformat": 4,
 "nbformat_minor": 4
}
