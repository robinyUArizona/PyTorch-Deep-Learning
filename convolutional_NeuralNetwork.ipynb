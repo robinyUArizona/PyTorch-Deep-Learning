{
 "cells": [
  {
   "cell_type": "markdown",
   "metadata": {
    "colab_type": "text",
    "id": "view-in-github"
   },
   "source": [
    "<a href=\"https://colab.research.google.com/github/robinyUArizona/PyTorch-Deep-Learning/blob/main/convolutional_NeuralNetwork.ipynb\" target=\"_parent\"><img src=\"https://colab.research.google.com/assets/colab-badge.svg\" alt=\"Open In Colab\"/></a>"
   ]
  },
  {
   "cell_type": "markdown",
   "metadata": {
    "id": "V24BsoJOO-4L"
   },
   "source": [
    "##### Ref: https://www.youtube.com/watch?v=33ysE1Gt1G4&list=PLCC34OHNcOtpcgR9LEYSdi9r7XIbpkpK1&index=14"
   ]
  },
  {
   "cell_type": "code",
   "execution_count": 1,
   "metadata": {
    "id": "zv0-diR48rms"
   },
   "outputs": [],
   "source": [
    "import torch\n",
    "import torch.nn as nn\n",
    "import torch.nn.functional as F\n",
    "from torch.utils.data import DataLoader\n",
    "from torchvision import datasets, transforms\n",
    "from torchvision.utils import make_grid\n",
    "\n",
    "import numpy as np\n",
    "import pandas as pd\n",
    "from sklearn.metrics import confusion_matrix\n",
    "import matplotlib.pyplot as plt\n",
    "%matplotlib inline"
   ]
  },
  {
   "cell_type": "code",
   "execution_count": null,
   "metadata": {
    "id": "yhuVUeZfO8Pb"
   },
   "outputs": [],
   "source": []
  },
  {
   "cell_type": "code",
   "execution_count": 2,
   "metadata": {
    "id": "URy5KYafl9lt"
   },
   "outputs": [],
   "source": [
    "# Convert MNIST Image Files into a Tensor of 4-Dimensions (# of images, Height, Width, Color Channel)\n",
    "transform = transforms.ToTensor()"
   ]
  },
  {
   "cell_type": "code",
   "execution_count": 3,
   "metadata": {
    "id": "pBNFdAK6dZNX"
   },
   "outputs": [],
   "source": [
    "# Download MNIST dataset to the current working directory\n",
    "train_data = datasets.MNIST(root=\"./\", train=True, download=True, transform=transform)"
   ]
  },
  {
   "cell_type": "code",
   "execution_count": 4,
   "metadata": {
    "id": "t3QX2A0Red-m"
   },
   "outputs": [],
   "source": [
    "# Test Data\n",
    "test_data = datasets.MNIST(root=\"./\", train=False, download=True, transform=transform)"
   ]
  },
  {
   "cell_type": "code",
   "execution_count": 5,
   "metadata": {
    "colab": {
     "base_uri": "https://localhost:8080/"
    },
    "id": "z-YFggLmew3A",
    "outputId": "4cea80b6-a974-4546-a6f7-a8faa2bad0ba"
   },
   "outputs": [
    {
     "data": {
      "text/plain": [
       "Dataset MNIST\n",
       "    Number of datapoints: 60000\n",
       "    Root location: ./\n",
       "    Split: Train\n",
       "    StandardTransform\n",
       "Transform: ToTensor()"
      ]
     },
     "execution_count": 5,
     "metadata": {},
     "output_type": "execute_result"
    }
   ],
   "source": [
    "train_data"
   ]
  },
  {
   "cell_type": "code",
   "execution_count": 6,
   "metadata": {
    "colab": {
     "base_uri": "https://localhost:8080/"
    },
    "id": "wswE33hNe0RR",
    "outputId": "372308c4-558d-48ce-9f26-a89daa693c6c"
   },
   "outputs": [
    {
     "data": {
      "text/plain": [
       "Dataset MNIST\n",
       "    Number of datapoints: 10000\n",
       "    Root location: ./\n",
       "    Split: Test\n",
       "    StandardTransform\n",
       "Transform: ToTensor()"
      ]
     },
     "execution_count": 6,
     "metadata": {},
     "output_type": "execute_result"
    }
   ],
   "source": [
    "test_data"
   ]
  },
  {
   "cell_type": "code",
   "execution_count": 7,
   "metadata": {
    "id": "_MkoyAtIfmSo"
   },
   "outputs": [],
   "source": [
    "# Create a small batch size for images ... Let's say 10\n",
    "train_loader = DataLoader(train_data, batch_size=10, shuffle=True)\n",
    "test_loader =  DataLoader(test_data, batch_size=10, shuffle=False)"
   ]
  },
  {
   "cell_type": "code",
   "execution_count": 8,
   "metadata": {
    "id": "XIL6a5rqjQFd"
   },
   "outputs": [],
   "source": [
    "# Define our CNN Model\n",
    "# Describe convolutional layer and what it's doing (2 convolutional layers)\n",
    "# This is just an example\n",
    "# 1 is # of input image\n",
    "# 6 is # of output feature maps\n",
    "# 3 is 3X3 kernel filter\n",
    "# 1 is stride .. step\n",
    "conv1 = nn.Conv2d(1, 6, 3, 1)\n",
    "conv2 = nn.Conv2d(6, 16, 3, 1)"
   ]
  },
  {
   "cell_type": "code",
   "execution_count": 9,
   "metadata": {
    "id": "L7Gmh8YVl1fC"
   },
   "outputs": [],
   "source": [
    "# Grab 1 MNIST record/image\n",
    "for i, (X_train, y_train) in enumerate(train_data):\n",
    "    break\n"
   ]
  },
  {
   "cell_type": "code",
   "execution_count": 10,
   "metadata": {
    "colab": {
     "base_uri": "https://localhost:8080/"
    },
    "id": "rrkPXD-umLJO",
    "outputId": "1341e0bc-cc9c-4826-9502-5d4fc5e78733"
   },
   "outputs": [
    {
     "data": {
      "text/plain": [
       "torch.Size([1, 28, 28])"
      ]
     },
     "execution_count": 10,
     "metadata": {},
     "output_type": "execute_result"
    }
   ],
   "source": [
    "X_train.shape"
   ]
  },
  {
   "cell_type": "code",
   "execution_count": 11,
   "metadata": {
    "id": "sdinLCNWmSc_"
   },
   "outputs": [],
   "source": [
    "x = X_train.view(1, 1, 28, 28)\n",
    "# x\n",
    "# 1 batch of 1 image of size 28 X 28"
   ]
  },
  {
   "cell_type": "code",
   "execution_count": 12,
   "metadata": {
    "id": "Ot8cC6_RrIf-"
   },
   "outputs": [],
   "source": [
    "# Perform our first convolution\n",
    "x = F.relu(conv1(x)) # Recitified Linear Unit for our activation function"
   ]
  },
  {
   "cell_type": "code",
   "execution_count": 13,
   "metadata": {
    "colab": {
     "base_uri": "https://localhost:8080/"
    },
    "id": "Rl9z2fPMrnVJ",
    "outputId": "88f9387f-8b75-4939-8f96-851e1b871ed7"
   },
   "outputs": [
    {
     "data": {
      "text/plain": [
       "torch.Size([1, 6, 26, 26])"
      ]
     },
     "execution_count": 13,
     "metadata": {},
     "output_type": "execute_result"
    }
   ],
   "source": [
    "x.shape\n",
    "# 1 single image\n",
    "# 6 filters gives 6 feature maps\n",
    "# 26 X 26 is the size of the image"
   ]
  },
  {
   "cell_type": "code",
   "execution_count": 14,
   "metadata": {
    "id": "RB1hoF3IrrDx"
   },
   "outputs": [],
   "source": [
    "# Pass through the pooling layer\n",
    "# kernel size of 2 and stride size of 2\n",
    "x = F.max_pool2d(x, 2, 2)"
   ]
  },
  {
   "cell_type": "code",
   "execution_count": 15,
   "metadata": {
    "colab": {
     "base_uri": "https://localhost:8080/"
    },
    "id": "gqGIlxFgt8Ua",
    "outputId": "dfd6b5e5-bf27-41cf-d200-75795cc59931"
   },
   "outputs": [
    {
     "data": {
      "text/plain": [
       "torch.Size([1, 6, 13, 13])"
      ]
     },
     "execution_count": 15,
     "metadata": {},
     "output_type": "execute_result"
    }
   ],
   "source": [
    "x.shape # 26/2 = 13"
   ]
  },
  {
   "cell_type": "code",
   "execution_count": 16,
   "metadata": {
    "id": "X-7eeJyCt9N0"
   },
   "outputs": [],
   "source": [
    "# Second convolutional layer\n",
    "x = F.relu(conv2(x))"
   ]
  },
  {
   "cell_type": "code",
   "execution_count": 17,
   "metadata": {
    "colab": {
     "base_uri": "https://localhost:8080/"
    },
    "id": "pwDGWPJbul2i",
    "outputId": "75dc5e33-4bf6-4311-b958-3a8f0cc031ab"
   },
   "outputs": [
    {
     "data": {
      "text/plain": [
       "torch.Size([1, 16, 11, 11])"
      ]
     },
     "execution_count": 17,
     "metadata": {},
     "output_type": "execute_result"
    }
   ],
   "source": [
    "x.shape # we did not set padding so we lose 2 pixels around outside"
   ]
  },
  {
   "cell_type": "code",
   "execution_count": 18,
   "metadata": {
    "id": "DQZhaHaoumoJ"
   },
   "outputs": [],
   "source": [
    "# Pooling layer\n",
    "x = F.max_pool2d(x, 2, 2)"
   ]
  },
  {
   "cell_type": "code",
   "execution_count": 19,
   "metadata": {
    "colab": {
     "base_uri": "https://localhost:8080/"
    },
    "id": "YYt0hP6Cu4dU",
    "outputId": "bc04c045-07d0-4e48-d60e-6d3bde7337fe"
   },
   "outputs": [
    {
     "data": {
      "text/plain": [
       "torch.Size([1, 16, 5, 5])"
      ]
     },
     "execution_count": 19,
     "metadata": {},
     "output_type": "execute_result"
    }
   ],
   "source": [
    "x.shape # 11/2 = 5.5"
   ]
  },
  {
   "cell_type": "code",
   "execution_count": 20,
   "metadata": {
    "colab": {
     "base_uri": "https://localhost:8080/"
    },
    "id": "6UWkTgXXu5cj",
    "outputId": "856e4e81-fc07-4464-8d54-8c68c1f76d61"
   },
   "outputs": [
    {
     "data": {
      "text/plain": [
       "5.5"
      ]
     },
     "execution_count": 20,
     "metadata": {},
     "output_type": "execute_result"
    }
   ],
   "source": [
    "((28-2) / 2 - 2) / 2"
   ]
  },
  {
   "cell_type": "code",
   "execution_count": 21,
   "metadata": {
    "id": "afchxa8ZvUJX"
   },
   "outputs": [],
   "source": [
    "# Model Class\n",
    "class ConvolutionalNetwork(nn.Module):\n",
    "    def __init__(self):\n",
    "        super().__init__()\n",
    "        self.conv1 = nn.Conv2d(in_channels=1, out_channels=6, kernel_size=3, stride=1, padding=0) #\n",
    "        self.conv2 = nn.Conv2d(in_channels=6, out_channels=16, kernel_size=3, stride=1, padding=0) #\n",
    "        # Fully Connected Layer\n",
    "        self.fc1 = nn.Linear(5*5*16, 120)\n",
    "        self.fc2 = nn.Linear(120, 84)\n",
    "        self.fc3 = nn.Linear(84, 10)\n",
    "\n",
    "    def forward(self, X):\n",
    "        X = F.relu(self.conv1(X))\n",
    "        X = F.max_pool2d(X, 2, 2) # 2X2 kernal and stride 2\n",
    "        # Second pass\n",
    "        X = F.relu(self.conv2(X))\n",
    "        X = F.max_pool2d(X, 2, 2) # 2X2 kernal and stride 2\n",
    "\n",
    "        # Re-view to flatten it out\n",
    "        X = X.view(-1, 16*5*5) # negative one so that we can vary the batch size\n",
    "\n",
    "        # Fully Connected Layers\n",
    "        X = F.relu(self.fc1(X))\n",
    "        X = F.relu(self.fc2(X))\n",
    "        X = self.fc3(X)\n",
    "        return F.log_softmax(X, dim=1)"
   ]
  },
  {
   "cell_type": "code",
   "execution_count": 22,
   "metadata": {
    "colab": {
     "base_uri": "https://localhost:8080/"
    },
    "id": "VDrs8mCq4s8n",
    "outputId": "9e38de0f-7663-481f-f9ae-4a94bb8023cd"
   },
   "outputs": [
    {
     "data": {
      "text/plain": [
       "ConvolutionalNetwork(\n",
       "  (conv1): Conv2d(1, 6, kernel_size=(3, 3), stride=(1, 1))\n",
       "  (conv2): Conv2d(6, 16, kernel_size=(3, 3), stride=(1, 1))\n",
       "  (fc1): Linear(in_features=400, out_features=120, bias=True)\n",
       "  (fc2): Linear(in_features=120, out_features=84, bias=True)\n",
       "  (fc3): Linear(in_features=84, out_features=10, bias=True)\n",
       ")"
      ]
     },
     "execution_count": 22,
     "metadata": {},
     "output_type": "execute_result"
    }
   ],
   "source": [
    "# Create an Instance of our Model\n",
    "torch.manual_seed(41)\n",
    "model = ConvolutionalNetwork()\n",
    "model"
   ]
  },
  {
   "cell_type": "code",
   "execution_count": 23,
   "metadata": {
    "id": "ErOCPpM346Gg"
   },
   "outputs": [],
   "source": [
    "# Loss Function Optimize\n",
    "criterion = nn.CrossEntropyLoss()\n",
    "optimizer = torch.optim.Adam(model.parameters(), lr=0.001)"
   ]
  },
  {
   "cell_type": "code",
   "execution_count": 24,
   "metadata": {
    "colab": {
     "base_uri": "https://localhost:8080/"
    },
    "id": "1GQS2wwY7p3V",
    "outputId": "e94f6df2-4427-49ce-a61e-c5f4d8538615"
   },
   "outputs": [
    {
     "name": "stdout",
     "output_type": "stream",
     "text": [
      "Epoch: 0 Batch: 600 Loss: 0.16236090660095215\n",
      "Epoch: 0 Batch: 1200 Loss: 0.1614551544189453\n",
      "Epoch: 0 Batch: 1800 Loss: 0.5041669607162476\n",
      "Epoch: 0 Batch: 2400 Loss: 0.10426308214664459\n",
      "Epoch: 0 Batch: 3000 Loss: 0.007077544927597046\n",
      "Epoch: 0 Batch: 3600 Loss: 0.3652905821800232\n",
      "Epoch: 0 Batch: 4200 Loss: 0.0037760832346975803\n",
      "Epoch: 0 Batch: 4800 Loss: 0.0013758999994024634\n",
      "Epoch: 0 Batch: 5400 Loss: 0.04505983740091324\n",
      "Epoch: 0 Batch: 6000 Loss: 0.0005676982691511512\n",
      "Epoch: 0 Batch: 600 Loss: 0.0040985336527228355\n",
      "Epoch: 0 Batch: 1200 Loss: 0.26344460248947144\n",
      "Epoch: 0 Batch: 1800 Loss: 0.0015710301231592894\n",
      "Epoch: 0 Batch: 2400 Loss: 0.002920893719419837\n",
      "Epoch: 0 Batch: 3000 Loss: 0.025759723037481308\n",
      "Epoch: 0 Batch: 3600 Loss: 0.5109620094299316\n",
      "Epoch: 0 Batch: 4200 Loss: 0.03832785040140152\n",
      "Epoch: 0 Batch: 4800 Loss: 0.0004107930581085384\n",
      "Epoch: 0 Batch: 5400 Loss: 0.00042201072210446\n",
      "Epoch: 0 Batch: 6000 Loss: 0.4828798770904541\n",
      "Epoch: 0 Batch: 600 Loss: 0.05119292065501213\n",
      "Epoch: 0 Batch: 1200 Loss: 0.0038511897437274456\n",
      "Epoch: 0 Batch: 1800 Loss: 0.0014970828779041767\n",
      "Epoch: 0 Batch: 2400 Loss: 0.004896306432783604\n",
      "Epoch: 0 Batch: 3000 Loss: 0.008256791159510612\n",
      "Epoch: 0 Batch: 3600 Loss: 0.0004542603564914316\n",
      "Epoch: 0 Batch: 4200 Loss: 0.26317352056503296\n",
      "Epoch: 0 Batch: 4800 Loss: 0.001537359319627285\n",
      "Epoch: 0 Batch: 5400 Loss: 0.006470398046076298\n",
      "Epoch: 0 Batch: 6000 Loss: 0.1095944419503212\n",
      "Epoch: 0 Batch: 600 Loss: 0.03505117446184158\n",
      "Epoch: 0 Batch: 1200 Loss: 0.001770398230291903\n",
      "Epoch: 0 Batch: 1800 Loss: 0.005633163265883923\n",
      "Epoch: 0 Batch: 2400 Loss: 1.2385697118588723e-05\n",
      "Epoch: 0 Batch: 3000 Loss: 0.0020400488283485174\n",
      "Epoch: 0 Batch: 3600 Loss: 0.00025755190290510654\n",
      "Epoch: 0 Batch: 4200 Loss: 0.011785751208662987\n",
      "Epoch: 0 Batch: 4800 Loss: 2.1826495867571793e-05\n",
      "Epoch: 0 Batch: 5400 Loss: 0.0542694516479969\n",
      "Epoch: 0 Batch: 6000 Loss: 0.017493976280093193\n",
      "Epoch: 0 Batch: 600 Loss: 0.00170081143733114\n",
      "Epoch: 0 Batch: 1200 Loss: 0.08627621829509735\n",
      "Epoch: 0 Batch: 1800 Loss: 0.34209710359573364\n",
      "Epoch: 0 Batch: 2400 Loss: 0.00012794588110409677\n",
      "Epoch: 0 Batch: 3000 Loss: 0.0014115956146270037\n",
      "Epoch: 0 Batch: 3600 Loss: 0.47453540563583374\n",
      "Epoch: 0 Batch: 4200 Loss: 0.0017075622454285622\n",
      "Epoch: 0 Batch: 4800 Loss: 0.0002860472886823118\n",
      "Epoch: 0 Batch: 5400 Loss: 0.018258752301335335\n",
      "Epoch: 0 Batch: 6000 Loss: 0.0014418931677937508\n",
      "Training Took: 0.38364744981129967 minutes!\n"
     ]
    }
   ],
   "source": [
    "import time\n",
    "start_time = time.time()\n",
    "\n",
    "# Create Variables To Tracks Things\n",
    "epochs = 5\n",
    "train_losses = []\n",
    "val_losses = []\n",
    "train_accuracies = []\n",
    "val_accuracies = []\n",
    "\n",
    "# For Loop of Epochs\n",
    "for epoch in range(epochs):\n",
    "    trn_corr = 0\n",
    "    tst_corr = 0\n",
    "\n",
    "    # Train\n",
    "    for b, (X_train, y_train) in enumerate(train_loader):\n",
    "        b += 1\n",
    "        y_pred = model.forward(X_train) # get predicted values from the training set\n",
    "        train_loss = criterion(y_pred, y_train)\n",
    "\n",
    "        # Calculate accuracy\n",
    "        _, predicted = torch.max(y_pred, 1)\n",
    "        batch_correct = (predicted == y_train).sum().item()\n",
    "        train_accuracy = 100 * batch_correct / y_train.size(0)\n",
    "        # trn_corr += train_accuracy\n",
    "\n",
    "        # Update our parameters\n",
    "        optimizer.zero_grad()\n",
    "        train_loss.backward()\n",
    "        optimizer.step()\n",
    "\n",
    "        # Print out some results\n",
    "        if b%600 == 0:\n",
    "            print(f\"Epoch: {i} Batch: {b} Loss: {train_loss.item()}\")\n",
    "\n",
    "    train_losses.append(train_loss.detach().numpy())\n",
    "    train_accuracies.append(train_accuracy)\n",
    "\n",
    "    # Test\n",
    "    with torch.no_grad(): # No gradient so we dont updated our weights and biases with test\n",
    "        for b, (X_test, y_test) in enumerate(test_loader):\n",
    "            b += 1\n",
    "            y_val_pred = model.forward(X_test) # get predicted values from the training set\n",
    "            val_loss = criterion(y_val_pred, y_test)\n",
    "\n",
    "            # Calculate validation accuracy\n",
    "            _, val_predicted = torch.max(y_val_pred, 1)\n",
    "            batch_correct = (val_predicted == y_test).sum().item()\n",
    "            val_accuracy = 100 * batch_correct / y_test.size(0)\n",
    "            # tst_corr += val_accuracy\n",
    "\n",
    "\n",
    "    val_losses.append(val_loss.detach().numpy())\n",
    "    val_accuracies.append(val_accuracy)\n",
    "\n",
    "#  # print\n",
    "#     if epoch%10 == 0:\n",
    "#         print(f\"Epoch: {epoch}, \"\n",
    "#                 f\"Training Loss: {train_loss.item():.4f}, Training Accuracy: {train_accuracy:.2f}%, \"\n",
    "#                 f\"Validation Loss: {val_loss.item():.4f}, Validation Accuracy: {val_accuracy:.2f}%\")\n",
    "\n",
    "\n",
    "current_time = time.time()\n",
    "total = current_time - start_time\n",
    "print(f\"Training Took: {total/60} minutes!\")"
   ]
  },
  {
   "cell_type": "code",
   "execution_count": 25,
   "metadata": {
    "colab": {
     "base_uri": "https://localhost:8080/",
     "height": 337
    },
    "id": "Zk4SaO1eGDgo",
    "outputId": "89a7eeb8-c125-41ae-c6d6-fae4b4062ddc"
   },
   "outputs": [
    {
     "data": {
      "image/png": "[encoded data removed]",
      "text/plain": [
       "<Figure size 2400x700 with 2 Axes>"
      ]
     },
     "metadata": {},
     "output_type": "display_data"
    }
   ],
   "source": [
    "# After training, plot the losses and accuracies\n",
    "plt.figure(figsize=(24, 7))\n",
    "\n",
    "# Plotting Training and Validation Loss\n",
    "plt.subplot(1, 2, 1)\n",
    "plt.plot(train_losses, label='Training Loss')\n",
    "plt.plot(val_losses, label='Validation Loss')\n",
    "plt.xlabel('Epochs')\n",
    "plt.ylabel('Loss')\n",
    "plt.title('Training and Validation Loss')\n",
    "plt.legend()\n",
    "\n",
    "# Plotting Training and Validation Accuracy\n",
    "plt.subplot(1, 2, 2)\n",
    "plt.plot(train_accuracies, label='Training Accuracy')\n",
    "plt.plot(val_accuracies, label='Validation Accuracy')\n",
    "plt.xlabel('Epochs')\n",
    "plt.ylabel('Accuracy (%)')\n",
    "plt.title('Training and Validation Accuracy')\n",
    "plt.legend()\n",
    "\n",
    "plt.show()"
   ]
  },
  {
   "cell_type": "code",
   "execution_count": 26,
   "metadata": {
    "id": "lmn6vYQjHSqv"
   },
   "outputs": [],
   "source": [
    "#\n",
    "test_load_everything = DataLoader(test_data, batch_size=10000, shuffle=False)"
   ]
  },
  {
   "cell_type": "code",
   "execution_count": 27,
   "metadata": {
    "id": "Kd-1DyBRS4Xb"
   },
   "outputs": [],
   "source": [
    "with torch.no_grad():\n",
    "    correct = 0\n",
    "    for X_test, y_test in test_load_everything:\n",
    "        y_val = model.forward(X_test)\n",
    "        _, predicted = torch.max(y_val, 1)\n",
    "        correct += (predicted == y_test).sum()"
   ]
  },
  {
   "cell_type": "code",
   "execution_count": 28,
   "metadata": {
    "colab": {
     "base_uri": "https://localhost:8080/"
    },
    "id": "hP8b03hVY8bc",
    "outputId": "50b2e2fe-27f5-43e3-df5c-9c9150821260"
   },
   "outputs": [
    {
     "data": {
      "text/plain": [
       "98.64"
      ]
     },
     "execution_count": 28,
     "metadata": {},
     "output_type": "execute_result"
    }
   ],
   "source": [
    "# Did for correct\n",
    "correct.item() / len(test_data) * 100"
   ]
  },
  {
   "cell_type": "code",
   "execution_count": 29,
   "metadata": {
    "id": "S1IyV0EgZAd1"
   },
   "outputs": [],
   "source": [
    "# Grab an image\n",
    "# test_data[4143] # Tensor with an image in it .. at end, it shows the label\n"
   ]
  },
  {
   "cell_type": "code",
   "execution_count": 30,
   "metadata": {
    "id": "GK4vJW34Zweh"
   },
   "outputs": [],
   "source": [
    "# Grab just the data\n",
    "# test_data[4143][0]"
   ]
  },
  {
   "cell_type": "code",
   "execution_count": 31,
   "metadata": {
    "id": "QCBh55L-aIVN"
   },
   "outputs": [],
   "source": [
    "# Reshape it\n",
    "# test_data[4143][0].reshape(28, 28)"
   ]
  },
  {
   "cell_type": "code",
   "execution_count": 32,
   "metadata": {
    "colab": {
     "base_uri": "https://localhost:8080/",
     "height": 448
    },
    "id": "ZR6uekrlaX_P",
    "outputId": "a69654cf-f578-4064-8430-c8dbc9c4ee65"
   },
   "outputs": [
    {
     "data": {
      "text/plain": [
       "<matplotlib.image.AxesImage at 0x3343484a0>"
      ]
     },
     "execution_count": 32,
     "metadata": {},
     "output_type": "execute_result"
    },
    {
     "data": {
      "image/png": "[encoded data removed]",
      "text/plain": [
       "<Figure size 640x480 with 1 Axes>"
      ]
     },
     "metadata": {},
     "output_type": "display_data"
    }
   ],
   "source": [
    "# Show the image\n",
    "plt.imshow(test_data[4143][0].reshape(28,28))"
   ]
  },
  {
   "cell_type": "code",
   "execution_count": 33,
   "metadata": {
    "id": "xIu8UyFsal5B"
   },
   "outputs": [],
   "source": [
    "# Pass the image through the model\n",
    "model.eval()\n",
    "with torch.no_grad():\n",
    "    new_prediction =  model(test_data[4143][0].view(1,1,28,28)) # batch size of 1, 1 color channel, 28X28 image"
   ]
  },
  {
   "cell_type": "code",
   "execution_count": 34,
   "metadata": {
    "colab": {
     "base_uri": "https://localhost:8080/"
    },
    "id": "zmZuIkeDbPPi",
    "outputId": "923d829e-719f-4ba6-cc70-1cce68ab76f7"
   },
   "outputs": [
    {
     "data": {
      "text/plain": [
       "tensor([[-2.5049e+01, -2.2800e+01, -2.7292e+01, -1.7230e+01, -1.3250e+01,\n",
       "         -2.0360e+01, -3.7018e+01, -1.7299e+01, -1.5166e+01, -2.1458e-06]])"
      ]
     },
     "execution_count": 34,
     "metadata": {},
     "output_type": "execute_result"
    }
   ],
   "source": [
    "# Check the new prediction ... get probabilities\n",
    "new_prediction"
   ]
  },
  {
   "cell_type": "code",
   "execution_count": 35,
   "metadata": {
    "colab": {
     "base_uri": "https://localhost:8080/"
    },
    "id": "UUtSjVEtbUan",
    "outputId": "2fd28b15-8cb1-4f40-b333-35765f0655f3"
   },
   "outputs": [
    {
     "data": {
      "text/plain": [
       "tensor(9)"
      ]
     },
     "execution_count": 35,
     "metadata": {},
     "output_type": "execute_result"
    }
   ],
   "source": [
    "new_prediction.argmax()"
   ]
  },
  {
   "cell_type": "code",
   "execution_count": null,
   "metadata": {
    "id": "o82gx7uUbZQ-"
   },
   "outputs": [],
   "source": []
  }
 ],
 "metadata": {
  "accelerator": "GPU",
  "colab": {
   "authorship_tag": "ABX9TyMDk0Ber9/hernhhC/ushU+",
   "gpuType": "T4",
   "include_colab_link": true,
   "provenance": []
  },
  "kernelspec": {
   "display_name": "Python 3 (ipykernel)",
   "language": "python",
   "name": "python3"
  },
  "language_info": {
   "codemirror_mode": {
    "name": "ipython",
    "version": 3
   },
   "file_extension": ".py",
   "mimetype": "text/x-python",
   "name": "python",
   "nbconvert_exporter": "python",
   "pygments_lexer": "ipython3",
   "version": "3.12.8"
  }
 },
 "nbformat": 4,
 "nbformat_minor": 4
}
