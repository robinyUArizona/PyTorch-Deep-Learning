{
  "nbformat": 4,
  "nbformat_minor": 0,
  "metadata": {
    "colab": {
      "provenance": [],
      "gpuType": "T4",
      "authorship_tag": "ABX9TyMDk0Ber9/hernhhC/ushU+",
      "include_colab_link": true
    },
    "kernelspec": {
      "name": "python3",
      "display_name": "Python 3"
    },
    "language_info": {
      "name": "python"
    },
    "accelerator": "GPU"
  },
  "cells": [
    {
      "cell_type": "markdown",
      "metadata": {
        "id": "view-in-github",
        "colab_type": "text"
      },
      "source": [
        "<a href=\"https://colab.research.google.com/github/robinyUArizona/PyTorch-Deep-Learning/blob/main/convolutional_NeuralNetwork.ipynb\" target=\"_parent\"><img src=\"https://colab.research.google.com/assets/colab-badge.svg\" alt=\"Open In Colab\"/></a>"
      ]
    },
    {
      "cell_type": "markdown",
      "source": [
        "##### Ref: https://www.youtube.com/watch?v=33ysE1Gt1G4&list=PLCC34OHNcOtpcgR9LEYSdi9r7XIbpkpK1&index=14"
      ],
      "metadata": {
        "id": "V24BsoJOO-4L"
      }
    },
    {
      "cell_type": "code",
      "source": [],
      "metadata": {
        "id": "92H0VeL5O9ii"
      },
      "execution_count": null,
      "outputs": []
    },
    {
      "cell_type": "code",
      "execution_count": 1,
      "metadata": {
        "id": "zv0-diR48rms"
      },
      "outputs": [],
      "source": [
        "import torch\n",
        "import torch.nn as nn\n",
        "import torch.nn.functional as F\n",
        "from torch.utils.data import DataLoader\n",
        "from torchvision import datasets, transforms\n",
        "from torchvision.utils import make_grid\n",
        "\n",
        "import numpy as np\n",
        "import pandas as pd\n",
        "from sklearn.metrics import confusion_matrix\n",
        "import matplotlib.pyplot as plt\n",
        "%matplotlib inline"
      ]
    },
    {
      "cell_type": "code",
      "source": [],
      "metadata": {
        "id": "yhuVUeZfO8Pb"
      },
      "execution_count": null,
      "outputs": []
    },
    {
      "cell_type": "code",
      "source": [
        "# Convert MNIST Image Files into a Tensor of 4-Dimensions (# of images, Height, Width, Color Channel)\n",
        "transform = transforms.ToTensor()"
      ],
      "metadata": {
        "id": "URy5KYafl9lt"
      },
      "execution_count": 2,
      "outputs": []
    },
    {
      "cell_type": "code",
      "source": [
        "# Train Data\n",
        "train_data =  datasets.MNIST(root=\"/cnn_data\", train=True, download=True, transform=transform)"
      ],
      "metadata": {
        "id": "pBNFdAK6dZNX"
      },
      "execution_count": 3,
      "outputs": []
    },
    {
      "cell_type": "code",
      "source": [
        "# Test Data\n",
        "test_data =  datasets.MNIST(root=\"/cnn_data\", train=False, download=True, transform=transform)"
      ],
      "metadata": {
        "id": "t3QX2A0Red-m"
      },
      "execution_count": 4,
      "outputs": []
    },
    {
      "cell_type": "code",
      "source": [
        "train_data"
      ],
      "metadata": {
        "colab": {
          "base_uri": "https://localhost:8080/"
        },
        "id": "z-YFggLmew3A",
        "outputId": "4cea80b6-a974-4546-a6f7-a8faa2bad0ba"
      },
      "execution_count": 5,
      "outputs": [
        {
          "output_type": "execute_result",
          "data": {
            "text/plain": [
              "Dataset MNIST\n",
              "    Number of datapoints: 60000\n",
              "    Root location: /cnn_data\n",
              "    Split: Train\n",
              "    StandardTransform\n",
              "Transform: ToTensor()"
            ]
          },
          "metadata": {},
          "execution_count": 5
        }
      ]
    },
    {
      "cell_type": "code",
      "source": [
        "test_data"
      ],
      "metadata": {
        "colab": {
          "base_uri": "https://localhost:8080/"
        },
        "id": "wswE33hNe0RR",
        "outputId": "372308c4-558d-48ce-9f26-a89daa693c6c"
      },
      "execution_count": 6,
      "outputs": [
        {
          "output_type": "execute_result",
          "data": {
            "text/plain": [
              "Dataset MNIST\n",
              "    Number of datapoints: 10000\n",
              "    Root location: /cnn_data\n",
              "    Split: Test\n",
              "    StandardTransform\n",
              "Transform: ToTensor()"
            ]
          },
          "metadata": {},
          "execution_count": 6
        }
      ]
    },
    {
      "cell_type": "code",
      "source": [
        "# Create a small batch size for images ... Let's say 10\n",
        "train_loader = DataLoader(train_data, batch_size=10, shuffle=True)\n",
        "test_loader =  DataLoader(test_data, batch_size=10, shuffle=False)"
      ],
      "metadata": {
        "id": "_MkoyAtIfmSo"
      },
      "execution_count": 7,
      "outputs": []
    },
    {
      "cell_type": "code",
      "source": [
        "# Define our CNN Model\n",
        "# Describe convolutional layer and what it's doing (2 convolutional layers)\n",
        "# This is just an example\n",
        "# 1 is # of input image\n",
        "# 6 is # of output feature maps\n",
        "# 3 is 3X3 kernel filter\n",
        "# 1 is stride .. step\n",
        "conv1 = nn.Conv2d(1, 6, 3, 1)\n",
        "conv2 = nn.Conv2d(6, 16, 3, 1)"
      ],
      "metadata": {
        "id": "XIL6a5rqjQFd"
      },
      "execution_count": 8,
      "outputs": []
    },
    {
      "cell_type": "code",
      "source": [
        "# Grab 1 MNIST record/image\n",
        "for i, (X_train, y_train) in enumerate(train_data):\n",
        "    break\n",
        ""
      ],
      "metadata": {
        "id": "L7Gmh8YVl1fC"
      },
      "execution_count": 9,
      "outputs": []
    },
    {
      "cell_type": "code",
      "source": [
        "X_train.shape"
      ],
      "metadata": {
        "colab": {
          "base_uri": "https://localhost:8080/"
        },
        "id": "rrkPXD-umLJO",
        "outputId": "1341e0bc-cc9c-4826-9502-5d4fc5e78733"
      },
      "execution_count": 10,
      "outputs": [
        {
          "output_type": "execute_result",
          "data": {
            "text/plain": [
              "torch.Size([1, 28, 28])"
            ]
          },
          "metadata": {},
          "execution_count": 10
        }
      ]
    },
    {
      "cell_type": "code",
      "source": [
        "x = X_train.view(1, 1, 28, 28)\n",
        "# x\n",
        "# 1 batch of 1 image of size 28 X 28"
      ],
      "metadata": {
        "id": "sdinLCNWmSc_"
      },
      "execution_count": 11,
      "outputs": []
    },
    {
      "cell_type": "code",
      "source": [
        "# Perform our first convolution\n",
        "x = F.relu(conv1(x)) # Recitified Linear Unit for our activation function"
      ],
      "metadata": {
        "id": "Ot8cC6_RrIf-"
      },
      "execution_count": 12,
      "outputs": []
    },
    {
      "cell_type": "code",
      "source": [
        "x.shape\n",
        "# 1 single image\n",
        "# 6 filters gives 6 feature maps\n",
        "# 26 X 26 is the size of the image"
      ],
      "metadata": {
        "colab": {
          "base_uri": "https://localhost:8080/"
        },
        "id": "Rl9z2fPMrnVJ",
        "outputId": "88f9387f-8b75-4939-8f96-851e1b871ed7"
      },
      "execution_count": 13,
      "outputs": [
        {
          "output_type": "execute_result",
          "data": {
            "text/plain": [
              "torch.Size([1, 6, 26, 26])"
            ]
          },
          "metadata": {},
          "execution_count": 13
        }
      ]
    },
    {
      "cell_type": "code",
      "source": [
        "# Pass through the pooling layer\n",
        "# kernel size of 2 and stride size of 2\n",
        "x = F.max_pool2d(x, 2, 2)"
      ],
      "metadata": {
        "id": "RB1hoF3IrrDx"
      },
      "execution_count": 14,
      "outputs": []
    },
    {
      "cell_type": "code",
      "source": [
        "x.shape # 26/2 = 13"
      ],
      "metadata": {
        "colab": {
          "base_uri": "https://localhost:8080/"
        },
        "id": "gqGIlxFgt8Ua",
        "outputId": "dfd6b5e5-bf27-41cf-d200-75795cc59931"
      },
      "execution_count": 15,
      "outputs": [
        {
          "output_type": "execute_result",
          "data": {
            "text/plain": [
              "torch.Size([1, 6, 13, 13])"
            ]
          },
          "metadata": {},
          "execution_count": 15
        }
      ]
    },
    {
      "cell_type": "code",
      "source": [
        "# Second convolutional layer\n",
        "x = F.relu(conv2(x))"
      ],
      "metadata": {
        "id": "X-7eeJyCt9N0"
      },
      "execution_count": 16,
      "outputs": []
    },
    {
      "cell_type": "code",
      "source": [
        "x.shape # we did not set padding so we lose 2 pixels around outside"
      ],
      "metadata": {
        "colab": {
          "base_uri": "https://localhost:8080/"
        },
        "id": "pwDGWPJbul2i",
        "outputId": "75dc5e33-4bf6-4311-b958-3a8f0cc031ab"
      },
      "execution_count": 17,
      "outputs": [
        {
          "output_type": "execute_result",
          "data": {
            "text/plain": [
              "torch.Size([1, 16, 11, 11])"
            ]
          },
          "metadata": {},
          "execution_count": 17
        }
      ]
    },
    {
      "cell_type": "code",
      "source": [
        "# Pooling layer\n",
        "x = F.max_pool2d(x, 2, 2)"
      ],
      "metadata": {
        "id": "DQZhaHaoumoJ"
      },
      "execution_count": 18,
      "outputs": []
    },
    {
      "cell_type": "code",
      "source": [
        "x.shape # 11/2 = 5.5"
      ],
      "metadata": {
        "colab": {
          "base_uri": "https://localhost:8080/"
        },
        "id": "YYt0hP6Cu4dU",
        "outputId": "bc04c045-07d0-4e48-d60e-6d3bde7337fe"
      },
      "execution_count": 19,
      "outputs": [
        {
          "output_type": "execute_result",
          "data": {
            "text/plain": [
              "torch.Size([1, 16, 5, 5])"
            ]
          },
          "metadata": {},
          "execution_count": 19
        }
      ]
    },
    {
      "cell_type": "code",
      "source": [
        "((28-2) / 2 - 2) / 2"
      ],
      "metadata": {
        "colab": {
          "base_uri": "https://localhost:8080/"
        },
        "id": "6UWkTgXXu5cj",
        "outputId": "856e4e81-fc07-4464-8d54-8c68c1f76d61"
      },
      "execution_count": 20,
      "outputs": [
        {
          "output_type": "execute_result",
          "data": {
            "text/plain": [
              "5.5"
            ]
          },
          "metadata": {},
          "execution_count": 20
        }
      ]
    },
    {
      "cell_type": "code",
      "source": [
        "# Model Class\n",
        "class ConvolutionalNetwork(nn.Module):\n",
        "    def __init__(self):\n",
        "        super().__init__()\n",
        "        self.conv1 = nn.Conv2d(in_channels=1, out_channels=6, kernel_size=3, stride=1, padding=0) #\n",
        "        self.conv2 = nn.Conv2d(in_channels=6, out_channels=16, kernel_size=3, stride=1, padding=0) #\n",
        "        # Fully Connected Layer\n",
        "        self.fc1 = nn.Linear(5*5*16, 120)\n",
        "        self.fc2 = nn.Linear(120, 84)\n",
        "        self.fc3 = nn.Linear(84, 10)\n",
        "\n",
        "    def forward(self, X):\n",
        "        X = F.relu(self.conv1(X))\n",
        "        X = F.max_pool2d(X, 2, 2) # 2X2 kernal and stride 2\n",
        "        # Second pass\n",
        "        X = F.relu(self.conv2(X))\n",
        "        X = F.max_pool2d(X, 2, 2) # 2X2 kernal and stride 2\n",
        "\n",
        "        # Re-view to flatten it out\n",
        "        X = X.view(-1, 16*5*5) # negative one so that we can vary the batch size\n",
        "\n",
        "        # Fully Connected Layers\n",
        "        X = F.relu(self.fc1(X))\n",
        "        X = F.relu(self.fc2(X))\n",
        "        X = self.fc3(X)\n",
        "        return F.log_softmax(X, dim=1)"
      ],
      "metadata": {
        "id": "afchxa8ZvUJX"
      },
      "execution_count": 21,
      "outputs": []
    },
    {
      "cell_type": "code",
      "source": [
        "# Create an Instance of our Model\n",
        "torch.manual_seed(41)\n",
        "model = ConvolutionalNetwork()\n",
        "model"
      ],
      "metadata": {
        "colab": {
          "base_uri": "https://localhost:8080/"
        },
        "id": "VDrs8mCq4s8n",
        "outputId": "9e38de0f-7663-481f-f9ae-4a94bb8023cd"
      },
      "execution_count": 22,
      "outputs": [
        {
          "output_type": "execute_result",
          "data": {
            "text/plain": [
              "ConvolutionalNetwork(\n",
              "  (conv1): Conv2d(1, 6, kernel_size=(3, 3), stride=(1, 1))\n",
              "  (conv2): Conv2d(6, 16, kernel_size=(3, 3), stride=(1, 1))\n",
              "  (fc1): Linear(in_features=400, out_features=120, bias=True)\n",
              "  (fc2): Linear(in_features=120, out_features=84, bias=True)\n",
              "  (fc3): Linear(in_features=84, out_features=10, bias=True)\n",
              ")"
            ]
          },
          "metadata": {},
          "execution_count": 22
        }
      ]
    },
    {
      "cell_type": "code",
      "source": [
        "# Loss Function Optimize\n",
        "criterion = nn.CrossEntropyLoss()\n",
        "optimizer = torch.optim.Adam(model.parameters(), lr=0.001)"
      ],
      "metadata": {
        "id": "ErOCPpM346Gg"
      },
      "execution_count": 23,
      "outputs": []
    },
    {
      "cell_type": "code",
      "source": [
        "import time\n",
        "start_time = time.time()\n",
        "\n",
        "# Create Variables To Tracks Things\n",
        "epochs = 5\n",
        "train_losses = []\n",
        "val_losses = []\n",
        "train_accuracies = []\n",
        "val_accuracies = []\n",
        "\n",
        "# For Loop of Epochs\n",
        "for epoch in range(epochs):\n",
        "    trn_corr = 0\n",
        "    tst_corr = 0\n",
        "\n",
        "    # Train\n",
        "    for b, (X_train, y_train) in enumerate(train_loader):\n",
        "        b += 1\n",
        "        y_pred = model.forward(X_train) # get predicted values from the training set\n",
        "        train_loss = criterion(y_pred, y_train)\n",
        "\n",
        "        # Calculate accuracy\n",
        "        _, predicted = torch.max(y_pred, 1)\n",
        "        batch_correct = (predicted == y_train).sum().item()\n",
        "        train_accuracy = 100 * batch_correct / y_train.size(0)\n",
        "        # trn_corr += train_accuracy\n",
        "\n",
        "        # Update our parameters\n",
        "        optimizer.zero_grad()\n",
        "        train_loss.backward()\n",
        "        optimizer.step()\n",
        "\n",
        "        # Print out some results\n",
        "        if b%600 == 0:\n",
        "            print(f\"Epoch: {i} Batch: {b} Loss: {train_loss.item()}\")\n",
        "\n",
        "    train_losses.append(train_loss.detach().numpy())\n",
        "    train_accuracies.append(train_accuracy)\n",
        "\n",
        "    # Test\n",
        "    with torch.no_grad(): # No gradient so we dont updated our weights and biases with test\n",
        "        for b, (X_test, y_test) in enumerate(test_loader):\n",
        "            b += 1\n",
        "            y_val_pred = model.forward(X_test) # get predicted values from the training set\n",
        "            val_loss = criterion(y_val_pred, y_test)\n",
        "\n",
        "            # Calculate validation accuracy\n",
        "            _, val_predicted = torch.max(y_val_pred, 1)\n",
        "            batch_correct = (val_predicted == y_test).sum().item()\n",
        "            val_accuracy = 100 * batch_correct / y_test.size(0)\n",
        "            # tst_corr += val_accuracy\n",
        "\n",
        "\n",
        "    val_losses.append(val_loss.detach().numpy())\n",
        "    val_accuracies.append(val_accuracy)\n",
        "\n",
        "#  # print\n",
        "#     if epoch%10 == 0:\n",
        "#         print(f\"Epoch: {epoch}, \"\n",
        "#                 f\"Training Loss: {train_loss.item():.4f}, Training Accuracy: {train_accuracy:.2f}%, \"\n",
        "#                 f\"Validation Loss: {val_loss.item():.4f}, Validation Accuracy: {val_accuracy:.2f}%\")\n",
        "\n",
        "\n",
        "current_time = time.time()\n",
        "total = current_time - start_time\n",
        "print(f\"Training Took: {total/60} minutes!\")"
      ],
      "metadata": {
        "colab": {
          "base_uri": "https://localhost:8080/"
        },
        "id": "1GQS2wwY7p3V",
        "outputId": "e94f6df2-4427-49ce-a61e-c5f4d8538615"
      },
      "execution_count": 24,
      "outputs": [
        {
          "output_type": "stream",
          "name": "stdout",
          "text": [
            "Epoch: 0 Batch: 600 Loss: 0.1599934995174408\n",
            "Epoch: 0 Batch: 1200 Loss: 0.18979528546333313\n",
            "Epoch: 0 Batch: 1800 Loss: 0.5580862760543823\n",
            "Epoch: 0 Batch: 2400 Loss: 0.2070152312517166\n",
            "Epoch: 0 Batch: 3000 Loss: 0.006888664327561855\n",
            "Epoch: 0 Batch: 3600 Loss: 0.33112621307373047\n",
            "Epoch: 0 Batch: 4200 Loss: 0.004664934705942869\n",
            "Epoch: 0 Batch: 4800 Loss: 0.0020317500457167625\n",
            "Epoch: 0 Batch: 5400 Loss: 0.06558699160814285\n",
            "Epoch: 0 Batch: 6000 Loss: 0.000513441045768559\n",
            "Epoch: 0 Batch: 600 Loss: 0.004773168824613094\n",
            "Epoch: 0 Batch: 1200 Loss: 0.30684694647789\n",
            "Epoch: 0 Batch: 1800 Loss: 0.0025840331800282\n",
            "Epoch: 0 Batch: 2400 Loss: 0.004851708188652992\n",
            "Epoch: 0 Batch: 3000 Loss: 0.05095291882753372\n",
            "Epoch: 0 Batch: 3600 Loss: 0.29904529452323914\n",
            "Epoch: 0 Batch: 4200 Loss: 0.020275484770536423\n",
            "Epoch: 0 Batch: 4800 Loss: 0.0018002415308728814\n",
            "Epoch: 0 Batch: 5400 Loss: 0.0003511425748001784\n",
            "Epoch: 0 Batch: 6000 Loss: 0.16817066073417664\n",
            "Epoch: 0 Batch: 600 Loss: 0.044435493648052216\n",
            "Epoch: 0 Batch: 1200 Loss: 0.004347414709627628\n",
            "Epoch: 0 Batch: 1800 Loss: 0.0031939216423779726\n",
            "Epoch: 0 Batch: 2400 Loss: 0.001477271900512278\n",
            "Epoch: 0 Batch: 3000 Loss: 0.03410597890615463\n",
            "Epoch: 0 Batch: 3600 Loss: 0.0017348671099171042\n",
            "Epoch: 0 Batch: 4200 Loss: 0.026752764359116554\n",
            "Epoch: 0 Batch: 4800 Loss: 0.0011857940116897225\n",
            "Epoch: 0 Batch: 5400 Loss: 0.03397049382328987\n",
            "Epoch: 0 Batch: 6000 Loss: 0.08765818178653717\n",
            "Epoch: 0 Batch: 600 Loss: 0.0014157459372654557\n",
            "Epoch: 0 Batch: 1200 Loss: 0.04033372178673744\n",
            "Epoch: 0 Batch: 1800 Loss: 0.009649786166846752\n",
            "Epoch: 0 Batch: 2400 Loss: 9.890591900330037e-05\n",
            "Epoch: 0 Batch: 3000 Loss: 0.0006461621960625052\n",
            "Epoch: 0 Batch: 3600 Loss: 0.0020527213346213102\n",
            "Epoch: 0 Batch: 4200 Loss: 0.017012134194374084\n",
            "Epoch: 0 Batch: 4800 Loss: 0.0006663133972324431\n",
            "Epoch: 0 Batch: 5400 Loss: 0.2162645161151886\n",
            "Epoch: 0 Batch: 6000 Loss: 0.008805084973573685\n",
            "Epoch: 0 Batch: 600 Loss: 0.003906161990016699\n",
            "Epoch: 0 Batch: 1200 Loss: 0.02706657350063324\n",
            "Epoch: 0 Batch: 1800 Loss: 0.031226878985762596\n",
            "Epoch: 0 Batch: 2400 Loss: 0.003980172798037529\n",
            "Epoch: 0 Batch: 3000 Loss: 0.00034568319097161293\n",
            "Epoch: 0 Batch: 3600 Loss: 0.00021057421690784395\n",
            "Epoch: 0 Batch: 4200 Loss: 0.00018548659863881767\n",
            "Epoch: 0 Batch: 4800 Loss: 0.005335819907486439\n",
            "Epoch: 0 Batch: 5400 Loss: 0.16066013276576996\n",
            "Epoch: 0 Batch: 6000 Loss: 0.00018261259538121521\n",
            "Training Took: 3.3550726175308228 minutes!\n"
          ]
        }
      ]
    },
    {
      "cell_type": "code",
      "source": [
        "# After training, plot the losses and accuracies\n",
        "plt.figure(figsize=(24, 7))\n",
        "\n",
        "# Plotting Training and Validation Loss\n",
        "plt.subplot(1, 2, 1)\n",
        "plt.plot(train_losses, label='Training Loss')\n",
        "plt.plot(val_losses, label='Validation Loss')\n",
        "plt.xlabel('Epochs')\n",
        "plt.ylabel('Loss')\n",
        "plt.title('Training and Validation Loss')\n",
        "plt.legend()\n",
        "\n",
        "# Plotting Training and Validation Accuracy\n",
        "plt.subplot(1, 2, 2)\n",
        "plt.plot(train_accuracies, label='Training Accuracy')\n",
        "plt.plot(val_accuracies, label='Validation Accuracy')\n",
        "plt.xlabel('Epochs')\n",
        "plt.ylabel('Accuracy (%)')\n",
        "plt.title('Training and Validation Accuracy')\n",
        "plt.legend()\n",
        "\n",
        "plt.show()"
      ],
      "metadata": {
        "colab": {
          "base_uri": "https://localhost:8080/",
          "height": 337
        },
        "id": "Zk4SaO1eGDgo",
        "outputId": "89a7eeb8-c125-41ae-c6d6-fae4b4062ddc"
      },
      "execution_count": 26,
      "outputs": [
        {
          "output_type": "display_data",
          "data": {
            "text/plain": [
              "<Figure size 2400x700 with 2 Axes>"
            ],
            "image/png": "[encoded data removed]"
          },
          "metadata": {}
        }
      ]
    },
    {
      "cell_type": "code",
      "source": [
        "#\n",
        "test_load_everything = DataLoader(test_data, batch_size=10000, shuffle=False)"
      ],
      "metadata": {
        "id": "lmn6vYQjHSqv"
      },
      "execution_count": 27,
      "outputs": []
    },
    {
      "cell_type": "code",
      "source": [
        "with torch.no_grad():\n",
        "    correct = 0\n",
        "    for X_test, y_test in test_load_everything:\n",
        "        y_val = model.forward(X_test)\n",
        "        _, predicted = torch.max(y_val, 1)\n",
        "        correct += (predicted == y_test).sum()"
      ],
      "metadata": {
        "id": "Kd-1DyBRS4Xb"
      },
      "execution_count": 28,
      "outputs": []
    },
    {
      "cell_type": "code",
      "source": [
        "# Did for correct\n",
        "correct.item() / len(test_data) * 100"
      ],
      "metadata": {
        "colab": {
          "base_uri": "https://localhost:8080/"
        },
        "id": "hP8b03hVY8bc",
        "outputId": "50b2e2fe-27f5-43e3-df5c-9c9150821260"
      },
      "execution_count": 31,
      "outputs": [
        {
          "output_type": "execute_result",
          "data": {
            "text/plain": [
              "98.86"
            ]
          },
          "metadata": {},
          "execution_count": 31
        }
      ]
    },
    {
      "cell_type": "code",
      "source": [
        "# Grab an image\n",
        "# test_data[4143] # Tensor with an image in it .. at end, it shows the label\n"
      ],
      "metadata": {
        "id": "S1IyV0EgZAd1"
      },
      "execution_count": 40,
      "outputs": []
    },
    {
      "cell_type": "code",
      "source": [
        "# Grab just the data\n",
        "# test_data[4143][0]"
      ],
      "metadata": {
        "id": "GK4vJW34Zweh"
      },
      "execution_count": 41,
      "outputs": []
    },
    {
      "cell_type": "code",
      "source": [
        "# Reshape it\n",
        "# test_data[4143][0].reshape(28, 28)"
      ],
      "metadata": {
        "id": "QCBh55L-aIVN"
      },
      "execution_count": 42,
      "outputs": []
    },
    {
      "cell_type": "code",
      "source": [
        "# Show the image\n",
        "plt.imshow(test_data[4143][0].reshape(28,28))"
      ],
      "metadata": {
        "colab": {
          "base_uri": "https://localhost:8080/",
          "height": 448
        },
        "id": "ZR6uekrlaX_P",
        "outputId": "a69654cf-f578-4064-8430-c8dbc9c4ee65"
      },
      "execution_count": 43,
      "outputs": [
        {
          "output_type": "execute_result",
          "data": {
            "text/plain": [
              "<matplotlib.image.AxesImage at 0x7e74793bc0a0>"
            ]
          },
          "metadata": {},
          "execution_count": 43
        },
        {
          "output_type": "display_data",
          "data": {
            "text/plain": [
              "<Figure size 640x480 with 1 Axes>"
            ],
            "image/png": "[encoded data removed]"
          },
          "metadata": {}
        }
      ]
    },
    {
      "cell_type": "code",
      "source": [
        "# Pass the image through the model\n",
        "model.eval()\n",
        "with torch.no_grad():\n",
        "    new_prediction =  model(test_data[4143][0].view(1,1,28,28)) # batch size of 1, 1 color channel, 28X28 image"
      ],
      "metadata": {
        "id": "xIu8UyFsal5B"
      },
      "execution_count": 44,
      "outputs": []
    },
    {
      "cell_type": "code",
      "source": [
        "# Check the new prediction ... get probabilities\n",
        "new_prediction"
      ],
      "metadata": {
        "colab": {
          "base_uri": "https://localhost:8080/"
        },
        "id": "zmZuIkeDbPPi",
        "outputId": "923d829e-719f-4ba6-cc70-1cce68ab76f7"
      },
      "execution_count": 45,
      "outputs": [
        {
          "output_type": "execute_result",
          "data": {
            "text/plain": [
              "tensor([[-2.6323e+01, -2.2043e+01, -2.5815e+01, -1.6283e+01, -1.1452e+01,\n",
              "         -2.2503e+01, -3.8594e+01, -1.5411e+01, -1.7841e+01, -1.0967e-05]])"
            ]
          },
          "metadata": {},
          "execution_count": 45
        }
      ]
    },
    {
      "cell_type": "code",
      "source": [
        "new_prediction.argmax()"
      ],
      "metadata": {
        "colab": {
          "base_uri": "https://localhost:8080/"
        },
        "id": "UUtSjVEtbUan",
        "outputId": "2fd28b15-8cb1-4f40-b333-35765f0655f3"
      },
      "execution_count": 46,
      "outputs": [
        {
          "output_type": "execute_result",
          "data": {
            "text/plain": [
              "tensor(9)"
            ]
          },
          "metadata": {},
          "execution_count": 46
        }
      ]
    },
    {
      "cell_type": "code",
      "source": [],
      "metadata": {
        "id": "o82gx7uUbZQ-"
      },
      "execution_count": 46,
      "outputs": []
    }
  ]
}